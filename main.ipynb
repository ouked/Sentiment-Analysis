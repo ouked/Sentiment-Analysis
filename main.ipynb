{
 "cells": [
  {
   "cell_type": "markdown",
   "source": [
    "# Sentiment Analysis Coursework\n",
    "Alex Dawkins (asd60@bath.ac.uk), python 3.8\n",
    "\n",
    "The aim of this coursework is to write a sentiment analysis application to classify\n",
    "movie reviews as either **positive**, or **negative**.\n",
    "\n",
    "## The Dataset\n",
    "\n",
    "The dataset is 25,000 highly polar movie reviews. It has already been split into training and testing subsets.\n",
    "The dataset can be found [here](https://ai.stanford.edu/~amaas/data/sentiment/).\n"
   ],
   "metadata": {
    "collapsed": false
   }
  },
  {
   "cell_type": "code",
   "execution_count": 6,
   "outputs": [
    {
     "name": "stderr",
     "output_type": "stream",
     "text": [
      "[nltk_data] Downloading package punkt to\n",
      "[nltk_data]     /Users/alexdawkins/nltk_data...\n",
      "[nltk_data]   Package punkt is already up-to-date!\n"
     ]
    },
    {
     "data": {
      "text/plain": "True"
     },
     "execution_count": 6,
     "metadata": {},
     "output_type": "execute_result"
    }
   ],
   "source": [
    "from typing import List\n",
    "\n",
    "# Import and setup NLTK\n",
    "import nltk\n",
    "import os\n",
    "nltk.download('punkt')"
   ],
   "metadata": {
    "collapsed": false,
    "pycharm": {
     "name": "#%%\n"
    }
   }
  },
  {
   "cell_type": "code",
   "execution_count": 7,
   "outputs": [
    {
     "name": "stdout",
     "output_type": "stream",
     "text": [
      "Loaded 12500 positive reviews, and 12500 negative reviews.\n",
      "---\n",
      "pos_reviews[0]='For a movie that gets no respect there sure are a lot of memorable quotes listed for this gem. Imagine a movie where Joe Piscopo is actually funny! Maureen Stapleton is a scene stealer. The Moroni character is an absolute scream. Watch for Alan \"The Skipper\" Hale jr. as a police Sgt.'\n",
      "neg_reviews[0]=\"Working with one of the best Shakespeare sources, this film manages to be creditable to it's source, whilst still appealing to a wider audience.<br /><br />Branagh steals the film from under Fishburne's nose, and there's a talented cast on good form.\"\n"
     ]
    }
   ],
   "source": [
    "# Load the reviews\n",
    "import os\n",
    "train_dir = 'data/aclImdb/train'\n",
    "neg_train_dir = f'{train_dir}/neg'\n",
    "pos_train_dir = f'{train_dir}/pos'\n",
    "\n",
    "def load_reviews(fps, dir_: str):\n",
    "    reviews = []\n",
    "    for fp in fps:\n",
    "        with open(dir_ + '/' + fp, 'r') as f:\n",
    "            reviews.append(f.read())\n",
    "\n",
    "    return reviews\n",
    "\n",
    "neg_fps = [fp for fp in os.listdir(neg_train_dir) if fp.endswith('.txt')]\n",
    "pos_fps = [fp for fp in os.listdir(pos_train_dir) if fp.endswith('.txt')]\n",
    "\n",
    "\n",
    "pos_reviews = load_reviews(pos_fps, pos_train_dir)\n",
    "neg_reviews = load_reviews(neg_fps, neg_train_dir)\n",
    "\n",
    "print(f\"Loaded {len(pos_reviews)} positive reviews, and {len(neg_reviews)} negative reviews.\\n---\")\n",
    "print(f\"{pos_reviews[0]=}\")\n",
    "print(f\"{neg_reviews[0]=}\")"
   ],
   "metadata": {
    "collapsed": false,
    "pycharm": {
     "name": "#%%\n"
    }
   }
  },
  {
   "cell_type": "markdown",
   "source": [
    "Although the reviews in the dataset are written by many different people, it's possible that there could be some\n",
    "deviations in the lengths of reviewers' words or sentences, depending on whether they are talking about something\n",
    "in a positive or a negative manner.\n",
    "\n",
    "Perhaps more critical reviews are more likely to use longer, more technical words as the reviewers wants to use technical\n",
    "language to reason their point.\n",
    "\n",
    "Alternatively, there might be no correlation at all, as any consistency between up to 12,500 reviews is quite unlikely.\n",
    "This approach is more likely to be effective to distinguish between two different authors."
   ],
   "metadata": {
    "collapsed": false,
    "pycharm": {
     "name": "#%% md\n"
    }
   }
  },
  {
   "cell_type": "code",
   "execution_count": 8,
   "outputs": [
    {
     "name": "stdout",
     "output_type": "stream",
     "text": [
      "5 28 14 pos\n",
      "5 26 14 neg\n"
     ]
    }
   ],
   "source": [
    "def lengths(data: str, name: str):\n",
    "    words = nltk.tokenize.word_tokenize(data)\n",
    "    num_words = len(words)\n",
    "    avg_word_len = round(len(data) / num_words)\n",
    "    avg_sent_len = round(num_words / len(nltk.tokenize.sent_tokenize(data)))\n",
    "    # average number of times each word occurs uniquely\n",
    "    avg_n_unique_word = round(num_words / len(set(w.lower() for w in words)))\n",
    "    print(avg_word_len, avg_sent_len, avg_n_unique_word, name)\n",
    "\n",
    "# Limit number of reviews. my computer can't handle any more.\n",
    "n_reviews = 1000\n",
    "\n",
    "# Turn the lists into strings\n",
    "all_pos_reviews = '\\n'.join(pos_reviews[:n_reviews])\n",
    "all_neg_reviews = '\\n'.join(neg_reviews[:n_reviews])\n",
    "\n",
    "lengths(all_pos_reviews, 'pos')\n",
    "lengths(all_neg_reviews, 'neg')"
   ],
   "metadata": {
    "collapsed": false,
    "pycharm": {
     "name": "#%%\n"
    }
   }
  },
  {
   "cell_type": "markdown",
   "source": [
    "There doesn't appear to be any difference at all! **This technique will not work for categorising the data,** as both\n",
    "positive and negative reviews have very similar word and sentence length, and amount of unique vocabulary.\n"
   ],
   "metadata": {
    "collapsed": false,
    "pycharm": {
     "name": "#%% md\n"
    }
   }
  },
  {
   "cell_type": "markdown",
   "source": [
    "As part of the data set, a tokenised list of words (`imdb.vocab`), and the associated expected rating for each token\n",
    "(`imdbEr.txt`). This list of expected ratings was computed by (Potts, 2011).\n",
    "\n",
    "We can take the sum of each word's expected rating as the review's expected rating."
   ],
   "metadata": {
    "collapsed": false,
    "pycharm": {
     "name": "#%% md\n"
    }
   }
  },
  {
   "cell_type": "code",
   "execution_count": 27,
   "outputs": [],
   "source": [
    "def try_make_float(x):\n",
    "    try:\n",
    "        return float(x)\n",
    "    except ValueError:\n",
    "        return 0.\n",
    "\n",
    "with open(\"data/aclImdb/imdb.vocab\", 'r') as f:\n",
    "        vocab = f.read().split('\\n')\n",
    "\n",
    "# faster than vocab.index()\n",
    "vocab_index = {word: i for i, word in enumerate(vocab)}\n",
    "\n",
    "with open(\"data/aclImdb/imdbEr.txt\", 'r') as f:\n",
    "    expected_ratings = list(map(try_make_float, f.read().split('\\n')))"
   ],
   "metadata": {
    "collapsed": false,
    "pycharm": {
     "name": "#%%\n"
    }
   }
  },
  {
   "cell_type": "code",
   "execution_count": 47,
   "outputs": [],
   "source": [
    "def evaluate(modifier=None):\n",
    "    if not modifier:\n",
    "        def modifier(_):\n",
    "            return 1\n",
    "    n_positive = 0\n",
    "    for i, rev in enumerate(pos_reviews):\n",
    "        words = [word.lower() for word in nltk.word_tokenize(rev) if word not in '.,\\'\"']\n",
    "        expected_rating = 0\n",
    "        n_words = len(words)\n",
    "        for j, word in enumerate(words):\n",
    "            idx = vocab_index.get(word, None)\n",
    "            if not idx:\n",
    "                continue\n",
    "            expected_rating += modifier(j/n_words) * expected_ratings[idx]\n",
    "\n",
    "        if expected_rating > 0:\n",
    "            # print(n_positive, i)\n",
    "            n_positive += 1\n",
    "\n",
    "    print(f\"Accuracy: {n_positive}/{len(pos_reviews)} ({n_positive/len(pos_reviews)})\")"
   ],
   "metadata": {
    "collapsed": false,
    "pycharm": {
     "name": "#%%\n"
    }
   }
  },
  {
   "cell_type": "code",
   "execution_count": 30,
   "outputs": [
    {
     "name": "stdout",
     "output_type": "stream",
     "text": [
      "Accuracy: 10839/12500 (0.86712)\n"
     ]
    }
   ],
   "source": [
    "evaluate()"
   ],
   "metadata": {
    "collapsed": false,
    "pycharm": {
     "name": "#%%\n"
    }
   }
  },
  {
   "cell_type": "markdown",
   "source": [
    "From reading some of the reviews, I found that a lot of them include a lot of pre-amble, describing the context of how\n",
    "the reviewer watched the movie, their initial thoughts, etc. These words are independent of the sentiment of the whole\n",
    "review.\n",
    "\n",
    "For example, `pos/13_9.txt`:\n",
    "\n",
    " >I work at a movie theater and every Thursday night we have an employee screening of one movie that comes out the next day...Today it was The Guardian. I saw the trailers and the ads and never expected much from it, and in no way really did i anticipate seeing this...\n"
   ],
   "metadata": {
    "collapsed": false,
    "pycharm": {
     "name": "#%% md\n"
    }
   }
  },
  {
   "cell_type": "code",
   "execution_count": 49,
   "outputs": [
    {
     "data": {
      "text/plain": "<Figure size 640x480 with 1 Axes>",
      "image/png": "[encoded data removed]"
     },
     "metadata": {},
     "output_type": "display_data"
    }
   ],
   "source": [
    "import numpy as np\n",
    "import matplotlib.pyplot as plt\n",
    "%matplotlib inline\n",
    "\n",
    "def parabola(x_):\n",
    "    return (-(1.75 * x_ - 0.875) ** 2) + 1\n",
    "def positive_gradient(x_):\n",
    "    return ( 0.5 * x_ ) + 0.5\n",
    "def negative_gradient(x_):\n",
    "    return -( 0.5 * x_ ) + 1\n",
    "\n",
    "\n",
    "x = np.linspace(0, 1, 41)\n",
    "plt.plot(x, parabola(x),label=\"Parabola\")\n",
    "plt.plot(x, positive_gradient(x),label=\"+ve Grad.\")\n",
    "plt.plot(x, negative_gradient(x),label=\"-ve Grad.\")\n",
    "plt.xlabel('Relative word position')\n",
    "plt.legend()\n",
    "plt.show()"
   ],
   "metadata": {
    "collapsed": false,
    "pycharm": {
     "name": "#%%\n"
    }
   }
  },
  {
   "cell_type": "code",
   "execution_count": 29,
   "outputs": [
    {
     "name": "stdout",
     "output_type": "stream",
     "text": [
      "Accuracy: 10835/12500 (0.8668)\n"
     ]
    }
   ],
   "source": [
    "evaluate(modifier=parabola)"
   ],
   "metadata": {
    "collapsed": false,
    "pycharm": {
     "name": "#%%\n"
    }
   }
  },
  {
   "cell_type": "code",
   "execution_count": 50,
   "outputs": [
    {
     "name": "stdout",
     "output_type": "stream",
     "text": [
      "Accuracy: 10858/12500 (0.86864)\n"
     ]
    }
   ],
   "source": [
    "evaluate(modifier=positive_gradient)"
   ],
   "metadata": {
    "collapsed": false,
    "pycharm": {
     "name": "#%%\n"
    }
   }
  },
  {
   "cell_type": "markdown",
   "source": [
    "Some reviews get straight to the point, such as `pos/17_8.txt`:\n",
    " > Brilliant and moving performances by Tom Courtenay and Peter Finch."
   ],
   "metadata": {
    "collapsed": false,
    "pycharm": {
     "name": "#%% md\n"
    }
   }
  },
  {
   "cell_type": "code",
   "execution_count": 51,
   "outputs": [
    {
     "name": "stdout",
     "output_type": "stream",
     "text": [
      "Accuracy: 10818/12500 (0.86544)\n"
     ]
    }
   ],
   "source": [
    "evaluate(modifier=negative_gradient)"
   ],
   "metadata": {
    "collapsed": false,
    "pycharm": {
     "name": "#%%\n"
    }
   }
  },
  {
   "cell_type": "markdown",
   "source": [
    "Adding weights for the positions of words within the reviews doesn't appear to significantly improve performance, and I\n",
    "haven't experimented enough to warrant keeping this technique within the solution."
   ],
   "metadata": {
    "collapsed": false,
    "pycharm": {
     "name": "#%% md\n"
    }
   }
  },
  {
   "cell_type": "markdown",
   "source": [
    "As using Potts' list appears to be very effective, I wanted to try to recreate the list, using the training data.\n",
    "\n",
    "This code iterates through each word in every review and assigns the word a portion of the rating: if a review is 10\n",
    "stars, and it contains 2 words, these 2 words are clearly (and assumed equally) positive words, and should be considered\n",
    "more significant than a word that appears once in a long review."
   ],
   "metadata": {
    "collapsed": false
   }
  },
  {
   "cell_type": "code",
   "execution_count": null,
   "outputs": [],
   "source": [
    "import json\n",
    "import re\n",
    "\n",
    "regex = re.compile('[^a-zA-Z]')\n",
    "\n",
    "def clean(x):\n",
    "    return regex.sub(' ', x).lower()\n",
    "\n",
    "def make_er(train_data, ratings, use_cache=False):\n",
    "    if use_cache:\n",
    "        with open('results.txt', 'r') as f:\n",
    "            return json.load(f)\n",
    "\n",
    "    vocab_ratings = {}\n",
    "    vocab_occurrences = {}\n",
    "    porter = nltk.PorterStemmer()\n",
    "    n_reviews = len(train_data)\n",
    "    for i, rev in enumerate(train_data):\n",
    "        words = nltk.word_tokenize(clean(rev))\n",
    "        stems = [porter.stem(word) for word in words]\n",
    "        n_words = len(words)\n",
    "        # Convert (1 to 10) to (-5 to 4)\n",
    "        rating = ratings[i] - 6\n",
    "        rel_rating = rating / n_words\n",
    "        for word in stems:\n",
    "            vocab_ratings[word] = vocab_ratings.get(word, 0) + rel_rating\n",
    "            vocab_occurrences[word] = vocab_occurrences.get(word, 0) + 1\n",
    "        if i % 1000 == 0:\n",
    "            print(f\"{i}/{n_reviews}...\")\n",
    "    vocab_ratings = {word: sum_ / vocab_occurrences[word] for word, sum_ in vocab_ratings.items()}\n",
    "    with open('results.txt', 'w') as f:\n",
    "        f.write(json.dumps(vocab_ratings))\n",
    "\n",
    "    return vocab_ratings"
   ],
   "metadata": {
    "collapsed": false,
    "pycharm": {
     "name": "#%%\n"
    }
   }
  }
 ],
 "metadata": {
  "kernelspec": {
   "display_name": "Python 3",
   "language": "python",
   "name": "python3"
  },
  "language_info": {
   "codemirror_mode": {
    "name": "ipython",
    "version": 2
   },
   "file_extension": ".py",
   "mimetype": "text/x-python",
   "name": "python",
   "nbconvert_exporter": "python",
   "pygments_lexer": "ipython2",
   "version": "2.7.6"
  }
 },
 "nbformat": 4,
 "nbformat_minor": 0
}